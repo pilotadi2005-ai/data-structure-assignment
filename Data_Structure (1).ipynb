{
  "nbformat": 4,
  "nbformat_minor": 0,
  "metadata": {
    "colab": {
      "provenance": []
    },
    "kernelspec": {
      "name": "python3",
      "display_name": "Python 3"
    },
    "language_info": {
      "name": "python"
    }
  },
  "cells": [
    {
      "cell_type": "markdown",
      "source": [
        "# Data Types and Structures Questions"
      ],
      "metadata": {
        "id": "wG8ouMlHGW-C"
      }
    },
    {
      "cell_type": "markdown",
      "source": [
        "1.  What are data structures, and why are they important?\n",
        "    \n",
        "    - Data structures are specialized formats for organizing , storing , and accessing collections of data . They provide efficient ways to manage information based on its characteristics and intended use .\n",
        "\n",
        "    why they are important:-\n",
        "\n",
        "    - Efficiently stores and organizes the data.\n",
        "    - Improves performance of operations.\n",
        "    - It helps to solve complex problem.\n",
        "\n",
        "2. Explain the difference between mutable and immutable data types with examples?\n",
        "\n",
        "   - Mutable objects can be changed after creation . It allows append , add , remove . Mutable data types are list , set . Immutable objects cannot be changed once created . Immutable data types are tuple , string .\n",
        "\n",
        "3. What are the main differences between lists and tuples in Python?\n",
        "\n",
        "   - List are mutable means elements of a list can be added , removed or modified and list use square bracket[] . Tuples are immutable means we cannot change after creation . It use parantheses().\n",
        "\n",
        "4. Describe how dictionaries store data?\n",
        "\n",
        "   - Dictionaries store data in the form of key value pairs. Each key must be unique and immutable but values can be of any type and dictionary use hash tables.\n",
        "\n",
        "5. Why might you use a set instead of a list in Python?\n",
        "\n",
        "   - A set is useful when we want to store only unique values and it automatically removes duplicate value and its provide mathematical operation like union , intersection , and difference which list do not.\n",
        "\n",
        "6. What is a string in Python, and how is it different from a list?\n",
        "\n",
        "   - A string in python is immutable sequence of characters means it cannot be changed after creation but list is mutable and it can hold different data types such as numbers , srings , float values etc . Lists are more flexible while strings are fixed.\n",
        "\n",
        "7. How do tuples ensure data integrity in Python?\n",
        "\n",
        "   - Tuples are immutable , so their contents cannot be changed after creation. This ensures the stored data remains constant throughout program execution. Because of this property tuples are often used to represent fixed data like coordinates or constant values.\n",
        "\n",
        "8. What is a hash table, and how does it relate to dictionaries in Python?\n",
        "\n",
        "   - A hash table is a data structure that maps keys to values using a hashing function. Python dictionaries are implemented using hash tables which allows fast access, insertion, and deletion of elements.\n",
        "\n",
        "9. Can lists contain different data types in Python?\n",
        "\n",
        "   - yes , list can store different data types in python at same time . list can store interger value , float value , string or another list.\n",
        "\n",
        "10. Explain why strings are immutable in Python?\n",
        "\n",
        "    - Strings are immutable in Python for reasons of efficiency and security. They cannot be changed Python can reuse string objects in memory which saves resources Immutability also prevents accidental modifications and makes strings safe for multi-threaded use.\n",
        "\n",
        "11. What advantages do dictionaries offer over lists for certain tasks?\n",
        "\n",
        "    - Dictionaries allows data to be stored in key value pairs which provides fast access using keys instead of relying on positions. This makes data more meaningful and organized compared to lists. For example, {\"name\": \"Khushi\", \"age\": 19} is much clearer than using a simple list.\n",
        "\n",
        "\n",
        "12. Describe a scenario where using a tuple would be preferable over a list?\n",
        "\n",
        "    - Tuples are preferable when you want data to remain constant and unchangeable. For example storing days of the week or coordinates works better with tuples because the data should not be altered. Tuples can also be used as dictionary keys, unlike lists.\n",
        "\n",
        "\n",
        "13. How do sets handle duplicate values in Python?\n",
        "\n",
        "    - Sets in Python automatically remove duplicate values. If we try to create a set with repeated items , only one copy will be stored. This ensures all elements of a set are unique by default.\n",
        "\n",
        "\n",
        "14. How does the “in” keyword work differently for lists and dictionaries?\n",
        "\n",
        "    - In lists, the \"in\" keyword checks if a value exists within the list elements. In dictionaries, \"in\" checks for the presence of a key, not a value. This makes checking membership in dictionaries faster and more efficient.\n",
        "\n",
        "\n",
        "15. Can you modify the elements of a tuple? Explain why or why not?\n",
        "\n",
        "    - Tuples cannot be modified after creation because they are immutable. we cannot change, add, or remove elements from a tuple. If a tuple contains a mutable object like a list, the contents of that inner list can still be changed.\n",
        "\n",
        "\n",
        "16. What is a nested dictionary, and give an example of its use case?\n",
        "\n",
        "    - A nested dictionary is a dictionary that contains another dictionary as its value. It is useful for storing structured or hierarchical data. For example a student record can be stored as {\"Khushi\": {\"age\": 19, \"grade\": \"A\"}}.\n",
        "\n",
        "\n",
        "17. Describe the time complexity of accessing elements in a dictionary?\n",
        "\n",
        "    - Accessing elements in a dictionary is on average O(1) because it uses hash tables for lookups. This means finding a key’s value is very fast. In rare cases of hash collisions, the time complexity can degrade to O(n).\n",
        "\n",
        "\n",
        "18. In what situations are lists preferred over dictionaries?\n",
        "\n",
        "    - Lists are preferred when the order of items matters or when duplicate values are allowed. They are also better for sequential data storage and iteration. Dictionaries, in contrast are better when data needs to be associated with unique keys.\n",
        "\n",
        "19. Why are dictionaries considered unordered, and how does that affect data retrieval?\n",
        "\n",
        "    - Dictionaries are considered unordered collections because items are retrieved based on their keys, not their positions. Python 3.7+ preserves insertion order, logically dictionaries remain unordered. This means their primary focus is fast key-based access, not sequence.\n",
        "\n",
        "20. Explain the difference between a list and a dictionary in terms of data retrieval.\n",
        "\n",
        "    - A list is an ordered collection where elements are accessed using their index positions. A dictionary is an unordered collection where data is stored as key-value pairs and accessed using unique keys. Lists are ideal for sequences while dictionaries are better for quick lookups based on identifiers."
      ],
      "metadata": {
        "id": "D0ReJcCmH-ag"
      }
    },
    {
      "cell_type": "markdown",
      "source": [
        "# Practical Questions"
      ],
      "metadata": {
        "id": "uGaBtuw5ILED"
      }
    },
    {
      "cell_type": "markdown",
      "source": [
        "1. Write a code to create a string with your name and print it."
      ],
      "metadata": {
        "id": "orO-jA9_IUuT"
      }
    },
    {
      "cell_type": "code",
      "source": [
        "name = \"Aditya Yadav\"\n",
        "print(name)"
      ],
      "metadata": {
        "colab": {
          "base_uri": "https://localhost:8080/"
        },
        "id": "x3jv11K_IZ7J",
        "outputId": "3676a046-63e6-4bf1-f3e4-9cee044faf6f"
      },
      "execution_count": 44,
      "outputs": [
        {
          "output_type": "stream",
          "name": "stdout",
          "text": [
            "Aditya Yadav\n"
          ]
        }
      ]
    },
    {
      "cell_type": "markdown",
      "source": [
        "2. Write a code to find the length of the string \"Hello World\"."
      ],
      "metadata": {
        "id": "cxPHr-7CIaI5"
      }
    },
    {
      "cell_type": "code",
      "source": [
        "str = \"Hello World\"\n",
        "print(len(str))\n"
      ],
      "metadata": {
        "colab": {
          "base_uri": "https://localhost:8080/"
        },
        "id": "5bLrVKbcHkqp",
        "outputId": "d5d11800-cdf5-4fa8-c502-6490d7670460"
      },
      "execution_count": 45,
      "outputs": [
        {
          "output_type": "stream",
          "name": "stdout",
          "text": [
            "11\n"
          ]
        }
      ]
    },
    {
      "cell_type": "markdown",
      "source": [
        "3. Write a code to slice the first 3 characters from the string \"Python Programming\"."
      ],
      "metadata": {
        "id": "7Wl2xuUXIa4i"
      }
    },
    {
      "cell_type": "code",
      "source": [
        "str = \"Python Programming\"\n",
        "print(str[:3])"
      ],
      "metadata": {
        "colab": {
          "base_uri": "https://localhost:8080/"
        },
        "id": "erymj26eIbKR",
        "outputId": "0161c268-a258-4255-c3ea-cff70a644959"
      },
      "execution_count": 46,
      "outputs": [
        {
          "output_type": "stream",
          "name": "stdout",
          "text": [
            "Pyt\n"
          ]
        }
      ]
    },
    {
      "cell_type": "markdown",
      "source": [
        "4. Write a code to convert the string \"hello\" to uppercase."
      ],
      "metadata": {
        "id": "jQt9SceMIbad"
      }
    },
    {
      "cell_type": "code",
      "source": [
        "str = \"hello\"\n",
        "print(str.upper())"
      ],
      "metadata": {
        "colab": {
          "base_uri": "https://localhost:8080/"
        },
        "id": "pF9TNwmkIbpS",
        "outputId": "ed9f0ad2-8db6-4a5e-8c91-bf8b81dc2366"
      },
      "execution_count": 47,
      "outputs": [
        {
          "output_type": "stream",
          "name": "stdout",
          "text": [
            "HELLO\n"
          ]
        }
      ]
    },
    {
      "cell_type": "markdown",
      "source": [
        "5. Write a code to replace the word \"apple\" with \"orange\" in the string \"I like apple\"."
      ],
      "metadata": {
        "id": "9HmJMa4DIb3b"
      }
    },
    {
      "cell_type": "code",
      "source": [
        "str = \"I like apple\"\n",
        "print(str.replace(\"apple\",\"orange\"))"
      ],
      "metadata": {
        "colab": {
          "base_uri": "https://localhost:8080/"
        },
        "id": "b0fxfYffIcFz",
        "outputId": "38bb333a-d448-4d65-a11d-81ea59c15e33"
      },
      "execution_count": 48,
      "outputs": [
        {
          "output_type": "stream",
          "name": "stdout",
          "text": [
            "I like orange\n"
          ]
        }
      ]
    },
    {
      "cell_type": "markdown",
      "source": [
        "6. Write a code to create a list with numbers 1 to 5 and print it."
      ],
      "metadata": {
        "id": "HyOZ_UfDIcU_"
      }
    },
    {
      "cell_type": "code",
      "source": [
        "num = [1,2,3,4,5]\n",
        "print(num)"
      ],
      "metadata": {
        "colab": {
          "base_uri": "https://localhost:8080/"
        },
        "id": "FQeik-phIcjj",
        "outputId": "6632b590-7c2b-44f1-b89d-2e615f61b7af"
      },
      "execution_count": 49,
      "outputs": [
        {
          "output_type": "stream",
          "name": "stdout",
          "text": [
            "[1, 2, 3, 4, 5]\n"
          ]
        }
      ]
    },
    {
      "cell_type": "markdown",
      "source": [
        "7. Write a code to append the number 10 to the list [1, 2, 3, 4]."
      ],
      "metadata": {
        "id": "js4Qt4O6IdOc"
      }
    },
    {
      "cell_type": "code",
      "source": [
        "list = [1,2,3,4]\n",
        "list.append(10)\n",
        "print(list)"
      ],
      "metadata": {
        "colab": {
          "base_uri": "https://localhost:8080/"
        },
        "id": "k8nYPl3iIdcV",
        "outputId": "728fe7ad-09e5-4e46-88c4-1f54c5abe64a"
      },
      "execution_count": 50,
      "outputs": [
        {
          "output_type": "stream",
          "name": "stdout",
          "text": [
            "[1, 2, 3, 4, 10]\n"
          ]
        }
      ]
    },
    {
      "cell_type": "markdown",
      "source": [
        "8. Write a code to remove the number 3 from the list [1, 2, 3, 4, 5].\n"
      ],
      "metadata": {
        "id": "imiLY3j0Id02"
      }
    },
    {
      "cell_type": "code",
      "source": [
        "list = [1,2,3,4,5]\n",
        "list.remove(3)\n",
        "print(list)"
      ],
      "metadata": {
        "colab": {
          "base_uri": "https://localhost:8080/"
        },
        "id": "D918qeI2IeFo",
        "outputId": "4cbcf40d-267f-4615-a7ad-47ab56ef5a3a"
      },
      "execution_count": 51,
      "outputs": [
        {
          "output_type": "stream",
          "name": "stdout",
          "text": [
            "[1, 2, 4, 5]\n"
          ]
        }
      ]
    },
    {
      "cell_type": "markdown",
      "source": [
        "9. Write a code to access the second element in the list ['a', 'b', 'c', 'd'].\n"
      ],
      "metadata": {
        "id": "bdzGk-neIeb8"
      }
    },
    {
      "cell_type": "code",
      "source": [
        "list = ['a','b','c','d']\n",
        "print(list[1])"
      ],
      "metadata": {
        "colab": {
          "base_uri": "https://localhost:8080/"
        },
        "id": "2QMIJDIfIeqw",
        "outputId": "93e71d50-688d-414a-da09-88868906c5af"
      },
      "execution_count": 52,
      "outputs": [
        {
          "output_type": "stream",
          "name": "stdout",
          "text": [
            "b\n"
          ]
        }
      ]
    },
    {
      "cell_type": "markdown",
      "source": [
        "10. Write a code to reverse the list [10, 20, 30, 40, 50].\n"
      ],
      "metadata": {
        "id": "jVW_dgqfIe8N"
      }
    },
    {
      "cell_type": "code",
      "source": [
        "list = [10,20,30,40,50]\n",
        "print(list[::-1])"
      ],
      "metadata": {
        "colab": {
          "base_uri": "https://localhost:8080/"
        },
        "id": "T31ikb4oIfKS",
        "outputId": "48854ef2-3d7b-4059-942f-1530c2f43774"
      },
      "execution_count": 53,
      "outputs": [
        {
          "output_type": "stream",
          "name": "stdout",
          "text": [
            "[50, 40, 30, 20, 10]\n"
          ]
        }
      ]
    },
    {
      "cell_type": "markdown",
      "source": [
        "11.  Write a code to create a tuple with the elements 100, 200, 300 and print it.\n"
      ],
      "metadata": {
        "id": "YwwEkZEEIfX_"
      }
    },
    {
      "cell_type": "code",
      "source": [
        "tup = (100,200,300)\n",
        "print(tup)"
      ],
      "metadata": {
        "colab": {
          "base_uri": "https://localhost:8080/"
        },
        "id": "0UsV-0XfIfl3",
        "outputId": "df0fdbab-be7e-4863-e4b6-d425e3193187"
      },
      "execution_count": 54,
      "outputs": [
        {
          "output_type": "stream",
          "name": "stdout",
          "text": [
            "(100, 200, 300)\n"
          ]
        }
      ]
    },
    {
      "cell_type": "markdown",
      "source": [
        "12. Write a code to access the second-to-last element of the tuple ('red', 'green', 'blue', 'yellow').\n"
      ],
      "metadata": {
        "id": "nPooN_kFIf0q"
      }
    },
    {
      "cell_type": "code",
      "source": [
        "tup = ('red','green','blue','yellow')\n",
        "print(tup[-2])"
      ],
      "metadata": {
        "colab": {
          "base_uri": "https://localhost:8080/"
        },
        "id": "jzoT-Uw3IgB-",
        "outputId": "51a74bdf-dfdb-4109-d7a3-111d1e378c76"
      },
      "execution_count": 55,
      "outputs": [
        {
          "output_type": "stream",
          "name": "stdout",
          "text": [
            "blue\n"
          ]
        }
      ]
    },
    {
      "cell_type": "markdown",
      "source": [
        "13.  Write a code to find the minimum number in the tuple (10, 20, 5, 15).\n"
      ],
      "metadata": {
        "id": "K8ZUmQNwIgPf"
      }
    },
    {
      "cell_type": "code",
      "source": [
        "tup = (10,20,5,15)\n",
        "print(min(tup))"
      ],
      "metadata": {
        "colab": {
          "base_uri": "https://localhost:8080/"
        },
        "id": "4vBqeNRNLP2U",
        "outputId": "fa50215c-fe3a-4338-8ef1-9b7a0ff068d3"
      },
      "execution_count": 56,
      "outputs": [
        {
          "output_type": "stream",
          "name": "stdout",
          "text": [
            "5\n"
          ]
        }
      ]
    },
    {
      "cell_type": "markdown",
      "source": [
        "14.  Write a code to find the index of the element \"cat\" in the tuple ('dog', 'cat', 'rabbit').\n"
      ],
      "metadata": {
        "id": "vqWRYKXSIgse"
      }
    },
    {
      "cell_type": "code",
      "source": [
        "tup = (\"dog\",\"cat\",\"rabbit\")\n",
        "print(tup.index(\"cat\"))"
      ],
      "metadata": {
        "colab": {
          "base_uri": "https://localhost:8080/"
        },
        "id": "p989jPqyIg85",
        "outputId": "63a7b955-c538-4abc-95dd-2e03fd940095"
      },
      "execution_count": 57,
      "outputs": [
        {
          "output_type": "stream",
          "name": "stdout",
          "text": [
            "1\n"
          ]
        }
      ]
    },
    {
      "cell_type": "markdown",
      "source": [
        "15.  Write a code to create a tuple containing three different fruits and check if \"kiwi\" is in it.\n"
      ],
      "metadata": {
        "id": "bjPiTtBFIhOB"
      }
    },
    {
      "cell_type": "code",
      "source": [
        "tup = (\"apple\",\"mango\",\"kiwi\")\n",
        "\"kiwi\" in tup"
      ],
      "metadata": {
        "colab": {
          "base_uri": "https://localhost:8080/"
        },
        "id": "kaks2y5JIhbX",
        "outputId": "428e35fa-542a-46a2-b2b3-1edbaa89eb44"
      },
      "execution_count": 58,
      "outputs": [
        {
          "output_type": "execute_result",
          "data": {
            "text/plain": [
              "True"
            ]
          },
          "metadata": {},
          "execution_count": 58
        }
      ]
    },
    {
      "cell_type": "markdown",
      "source": [
        "16. Write a code to create a set with the elements 'a', 'b', 'c' and print it.\n"
      ],
      "metadata": {
        "id": "kyuwtesPIhpH"
      }
    },
    {
      "cell_type": "code",
      "source": [
        "set = {\"a\",\"b\",\"c\"}\n",
        "print(set)\n"
      ],
      "metadata": {
        "colab": {
          "base_uri": "https://localhost:8080/"
        },
        "id": "59CV3DXHIh27",
        "outputId": "17264ccb-4e84-4c97-f108-f4939fc03138"
      },
      "execution_count": 59,
      "outputs": [
        {
          "output_type": "stream",
          "name": "stdout",
          "text": [
            "{'c', 'a', 'b'}\n"
          ]
        }
      ]
    },
    {
      "cell_type": "markdown",
      "source": [
        "17. Write a code to clear all elements from the set {1, 2, 3, 4, 5}.\n"
      ],
      "metadata": {
        "id": "JXa9o0BFIiFd"
      }
    },
    {
      "cell_type": "code",
      "source": [
        "set = {1,2,3,4,5}\n",
        "set.clear()\n",
        "print(set)"
      ],
      "metadata": {
        "colab": {
          "base_uri": "https://localhost:8080/"
        },
        "id": "xGV8JSezIiVp",
        "outputId": "334457ad-9aac-4614-a39e-ba2d836446d7"
      },
      "execution_count": 60,
      "outputs": [
        {
          "output_type": "stream",
          "name": "stdout",
          "text": [
            "set()\n"
          ]
        }
      ]
    },
    {
      "cell_type": "markdown",
      "source": [
        "18. Write a code to remove the element 4 from the set {1, 2, 3, 4}.\n"
      ],
      "metadata": {
        "id": "ANARpQHJL0AU"
      }
    },
    {
      "cell_type": "code",
      "source": [
        "s = {1,2,3,4}\n",
        "s.remove(4)\n",
        "print(s)"
      ],
      "metadata": {
        "colab": {
          "base_uri": "https://localhost:8080/"
        },
        "id": "Z1O8yUm4L0cr",
        "outputId": "89a8f837-a2fc-45e8-b408-ee97e370296c"
      },
      "execution_count": 61,
      "outputs": [
        {
          "output_type": "stream",
          "name": "stdout",
          "text": [
            "{1, 2, 3}\n"
          ]
        }
      ]
    },
    {
      "cell_type": "markdown",
      "source": [
        "19. Write a code to find the union of two sets {1, 2, 3} and {3, 4, 5}\n"
      ],
      "metadata": {
        "id": "uMqVLC5TL0r-"
      }
    },
    {
      "cell_type": "code",
      "source": [
        "s1 = {1,2,3}\n",
        "s2 = {3,4,5}\n",
        "print(s1|s2)"
      ],
      "metadata": {
        "colab": {
          "base_uri": "https://localhost:8080/"
        },
        "id": "JL3ENojSL09Q",
        "outputId": "e37bd989-a56f-44be-bf1c-8711cc533fa1"
      },
      "execution_count": 62,
      "outputs": [
        {
          "output_type": "stream",
          "name": "stdout",
          "text": [
            "{1, 2, 3, 4, 5}\n"
          ]
        }
      ]
    },
    {
      "cell_type": "markdown",
      "source": [
        "20.  Write a code to find the intersection of two sets {1, 2, 3} and {2, 3, 4}.\n"
      ],
      "metadata": {
        "id": "N3U4lGenL1NU"
      }
    },
    {
      "cell_type": "code",
      "source": [
        "s1 = {1,2,3}\n",
        "s2 = {2,3,4}\n",
        "print(s1&s2)"
      ],
      "metadata": {
        "colab": {
          "base_uri": "https://localhost:8080/"
        },
        "id": "ZCgPTO5UL1cb",
        "outputId": "3e851ff6-e858-4410-de38-513027698da2"
      },
      "execution_count": 63,
      "outputs": [
        {
          "output_type": "stream",
          "name": "stdout",
          "text": [
            "{2, 3}\n"
          ]
        }
      ]
    },
    {
      "cell_type": "markdown",
      "source": [
        "21. Write a code to create a dictionary with the keys \"name\", \"age\", and \"city\", and print it\n"
      ],
      "metadata": {
        "id": "siUXOPkjL1rW"
      }
    },
    {
      "cell_type": "code",
      "source": [
        "dict = {\"name\":\"Aditya\",\"age\":20,\"city\":\"Delhi\"}\n",
        "print(dict)"
      ],
      "metadata": {
        "colab": {
          "base_uri": "https://localhost:8080/"
        },
        "id": "zH95aRykL2B0",
        "outputId": "97bc29ed-4446-4353-f7ed-4ec9d85cd4c8"
      },
      "execution_count": 64,
      "outputs": [
        {
          "output_type": "stream",
          "name": "stdout",
          "text": [
            "{'name': 'Aditya', 'age': 20, 'city': 'Delhi'}\n"
          ]
        }
      ]
    },
    {
      "cell_type": "markdown",
      "source": [
        "22. Write a code to add a new key-value pair \"country\": \"USA\" to the dictionary {'name': 'John', 'age': 25}\n"
      ],
      "metadata": {
        "id": "b7FoPj4JL2RF"
      }
    },
    {
      "cell_type": "code",
      "source": [
        "dict = {\"name\":\"John\",\"age\":25}\n",
        "dict[\"country\"] = \"USA\"\n",
        "print(dict)\n"
      ],
      "metadata": {
        "colab": {
          "base_uri": "https://localhost:8080/"
        },
        "id": "6k4YNn0KL2gf",
        "outputId": "d8fd3645-d963-4b29-f587-9bdab5a9e7ab"
      },
      "execution_count": 65,
      "outputs": [
        {
          "output_type": "stream",
          "name": "stdout",
          "text": [
            "{'name': 'John', 'age': 25, 'country': 'USA'}\n"
          ]
        }
      ]
    },
    {
      "cell_type": "markdown",
      "source": [
        "23. Write a code to access the value associated with the key \"name\" in the dictionary {'name': 'Alice', 'age': 30}\n"
      ],
      "metadata": {
        "id": "PVrJ_37VL2v3"
      }
    },
    {
      "cell_type": "code",
      "source": [
        "dict = {\"name\":\"Alice\",\"age\":30}\n",
        "print(dict[\"name\"])"
      ],
      "metadata": {
        "colab": {
          "base_uri": "https://localhost:8080/"
        },
        "id": "9G7Aid5HL2_M",
        "outputId": "2df7d462-993c-4ebf-d331-73e454d2e3fa"
      },
      "execution_count": 66,
      "outputs": [
        {
          "output_type": "stream",
          "name": "stdout",
          "text": [
            "Alice\n"
          ]
        }
      ]
    },
    {
      "cell_type": "markdown",
      "source": [
        "24.  Write a code to remove the key \"age\" from the dictionary {'name': 'Bob', 'age': 22, 'city': 'New York'}.\n"
      ],
      "metadata": {
        "id": "wbhtUG0_M2vC"
      }
    },
    {
      "cell_type": "code",
      "source": [
        "dict = {\"name\":\"Bob\",\"age\":22,\"city\":\"New York\"}\n",
        "dict.pop(\"age\")\n",
        "print(dict)"
      ],
      "metadata": {
        "colab": {
          "base_uri": "https://localhost:8080/"
        },
        "id": "FNXlbrRjM1iA",
        "outputId": "ea719792-c031-4194-9f5a-f55fcc387f33"
      },
      "execution_count": 67,
      "outputs": [
        {
          "output_type": "stream",
          "name": "stdout",
          "text": [
            "{'name': 'Bob', 'city': 'New York'}\n"
          ]
        }
      ]
    },
    {
      "cell_type": "markdown",
      "source": [
        "25.  Write a code to check if the key \"city\" exists in the dictionary {'name': 'Alice', 'city': 'Paris'}.\n"
      ],
      "metadata": {
        "id": "Prme2pSBM3zT"
      }
    },
    {
      "cell_type": "code",
      "source": [
        "dict = {\"name\":\"Alice\",\"city\":\"Paris\"}\n",
        "\"city\" in dict"
      ],
      "metadata": {
        "colab": {
          "base_uri": "https://localhost:8080/"
        },
        "id": "I1H-H89xM4Gn",
        "outputId": "b2e43d7e-55ca-46be-db6e-a0bc016804fc"
      },
      "execution_count": 68,
      "outputs": [
        {
          "output_type": "execute_result",
          "data": {
            "text/plain": [
              "True"
            ]
          },
          "metadata": {},
          "execution_count": 68
        }
      ]
    },
    {
      "cell_type": "markdown",
      "source": [
        "26. Write a code to create a list, a tuple, and a dictionary, and print them all.\n"
      ],
      "metadata": {
        "id": "0a_Yq4I2M4lx"
      }
    },
    {
      "cell_type": "code",
      "source": [
        "list = [1,2,3,4]\n",
        "tup = (1,2,3,4)\n",
        "dict = {\"name\":\"Adi\",\"age\":20}\n",
        "print(list,\"\\n\",tup,\"\\n\",dict)"
      ],
      "metadata": {
        "colab": {
          "base_uri": "https://localhost:8080/"
        },
        "id": "kzySWD-1M4zr",
        "outputId": "6e457c15-7a4e-4702-f9f0-6fbc5fb791ad"
      },
      "execution_count": 69,
      "outputs": [
        {
          "output_type": "stream",
          "name": "stdout",
          "text": [
            "[1, 2, 3, 4] \n",
            " (1, 2, 3, 4) \n",
            " {'name': 'Adi', 'age': 20}\n"
          ]
        }
      ]
    },
    {
      "cell_type": "markdown",
      "source": [
        "27.  Write a code to create a list of 5 random numbers between 1 and 100, sort it in ascending order, and print the\n"
      ],
      "metadata": {
        "id": "a21WVTeRM5CQ"
      }
    },
    {
      "cell_type": "code",
      "source": [
        "import random\n",
        "list = []\n",
        "for i in range(5):\n",
        "  list.append(random.randint(1,100))\n",
        "print(list)\n",
        "list.sort()\n",
        "print(list)"
      ],
      "metadata": {
        "colab": {
          "base_uri": "https://localhost:8080/"
        },
        "id": "jul00t5fM5Py",
        "outputId": "50523c7a-e722-4563-ae25-9db497f14578"
      },
      "execution_count": 70,
      "outputs": [
        {
          "output_type": "stream",
          "name": "stdout",
          "text": [
            "[23, 75, 5, 50, 53]\n",
            "[5, 23, 50, 53, 75]\n"
          ]
        }
      ]
    },
    {
      "cell_type": "markdown",
      "source": [
        "28. Write a code to create a list with strings and print the element at the third index.\n"
      ],
      "metadata": {
        "id": "g8svf8fCM5dW"
      }
    },
    {
      "cell_type": "code",
      "source": [
        "list = [\"apple\",\"mango\",\"kiwi\"]\n",
        "print(list[2])"
      ],
      "metadata": {
        "colab": {
          "base_uri": "https://localhost:8080/"
        },
        "id": "gPFUD4XsM5rp",
        "outputId": "a8a0671d-a5db-4929-ccf1-7d4f504efbad"
      },
      "execution_count": 71,
      "outputs": [
        {
          "output_type": "stream",
          "name": "stdout",
          "text": [
            "kiwi\n"
          ]
        }
      ]
    },
    {
      "cell_type": "markdown",
      "source": [
        "29. Write a code to combine two dictionaries into one and print the result.\n"
      ],
      "metadata": {
        "id": "wDhS2QIUM55e"
      }
    },
    {
      "cell_type": "code",
      "source": [
        "dict1 = {\"name\":\"Adi\",\"age\":20}\n",
        "dict2 = {\"country\":\"Delhi\",\"course\":\"DS\"}\n",
        "print([dict1|dict2])"
      ],
      "metadata": {
        "colab": {
          "base_uri": "https://localhost:8080/"
        },
        "id": "2MJjCicRM6Il",
        "outputId": "b2193854-afbf-4c95-b119-104c9cea0bf1"
      },
      "execution_count": 72,
      "outputs": [
        {
          "output_type": "stream",
          "name": "stdout",
          "text": [
            "[{'name': 'Adi', 'age': 20, 'country': 'Delhi', 'course': 'DS'}]\n"
          ]
        }
      ]
    },
    {
      "cell_type": "markdown",
      "source": [
        "30.  Write a code to convert a list of strings into a set.\n"
      ],
      "metadata": {
        "id": "91igvGJSNtVD"
      }
    },
    {
      "cell_type": "code",
      "source": [
        "del set\n",
        "my_list = [\"apple\", \"banana\", \"cherry\"]\n",
        "my_set = set(my_list)\n",
        "print(my_set)"
      ],
      "metadata": {
        "colab": {
          "base_uri": "https://localhost:8080/"
        },
        "id": "aSGJkDGWNtwX",
        "outputId": "2d707d6f-88c8-493e-f09f-301f1c8081b8"
      },
      "execution_count": 73,
      "outputs": [
        {
          "output_type": "stream",
          "name": "stdout",
          "text": [
            "{'cherry', 'banana', 'apple'}\n"
          ]
        }
      ]
    }
  ]
}